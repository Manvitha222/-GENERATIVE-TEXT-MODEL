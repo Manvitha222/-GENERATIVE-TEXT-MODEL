{
 "cells": [
  {
   "cell_type": "code",
   "execution_count": 1,
   "id": "3f8e7c33-2197-4032-ab48-c9738c81bf07",
   "metadata": {},
   "outputs": [
    {
     "name": "stderr",
     "output_type": "stream",
     "text": [
      "/home/manvi/.local/share/pipx/venvs/notebook/lib/python3.12/site-packages/tqdm/auto.py:21: TqdmWarning: IProgress not found. Please update jupyter and ipywidgets. See https://ipywidgets.readthedocs.io/en/stable/user_install.html\n",
      "  from .autonotebook import tqdm as notebook_tqdm\n"
     ]
    }
   ],
   "source": [
    "from transformers import GPT2LMHeadModel, GPT2Tokenizer\n",
    "import torch"
   ]
  },
  {
   "cell_type": "code",
   "execution_count": 2,
   "id": "a1b3d87d-d0bd-41e0-9575-7bf6b3503723",
   "metadata": {},
   "outputs": [
    {
     "name": "stderr",
     "output_type": "stream",
     "text": [
      "Xet Storage is enabled for this repo, but the 'hf_xet' package is not installed. Falling back to regular HTTP download. For better performance, install the package with: `pip install huggingface_hub[hf_xet]` or `pip install hf_xet`\n"
     ]
    }
   ],
   "source": [
    "# Load the model and tokenizer\n",
    "model_name = 'gpt2'  # You can also use 'gpt2-medium' or 'gpt2-large'\n",
    "tokenizer = GPT2Tokenizer.from_pretrained(model_name)\n",
    "model = GPT2LMHeadModel.from_pretrained(model_name)"
   ]
  },
  {
   "cell_type": "code",
   "execution_count": 3,
   "id": "cd5cb712-1efe-4c51-9e9e-988027ceb845",
   "metadata": {},
   "outputs": [],
   "source": [
    "#Text generation function\n",
    "def generate_gpt_text(prompt, max_length=150):\n",
    "    inputs = tokenizer.encode(prompt, return_tensors='pt')\n",
    "    outputs = model.generate(inputs, max_length=max_length, do_sample=True, top_k=50, top_p=0.95)\n",
    "    text = tokenizer.decode(outputs[0], skip_special_tokens=True)\n",
    "    return text"
   ]
  },
  {
   "cell_type": "code",
   "execution_count": 4,
   "id": "855e66ef-5c60-40ed-b061-06fa2a37c723",
   "metadata": {},
   "outputs": [
    {
     "name": "stderr",
     "output_type": "stream",
     "text": [
      "The attention mask and the pad token id were not set. As a consequence, you may observe unexpected behavior. Please pass your input's `attention_mask` to obtain reliable results.\n",
      "Setting `pad_token_id` to `eos_token_id`:50256 for open-end generation.\n",
      "The attention mask is not set and cannot be inferred from input because pad token is same as eos token. As a consequence, you may observe unexpected behavior. Please pass your input's `attention_mask` to obtain reliable results.\n"
     ]
    },
    {
     "name": "stdout",
     "output_type": "stream",
     "text": [
      "The future of artificial intelligence in education is uncertain for decades to come.\n",
      "\n",
      "At the end of this year, the federal government's research into brainwave activity and the effectiveness of cognitive learning in adolescents and adults will end up in a joint effort by the National Institute of Mental Health and the National Institute of Child Health and Human Development.\n",
      "\n",
      "This will be the first time a major US scientific research organization has spent more than half its time studying brain waves in children, so far. The research began in 2012 and culminated in 2012 in a new study that assessed the quality of the brain waves of 1,035 children aged 6–16 and concluded that many children with high levels of brain activity, but poor mental functioning, were less well-suited\n"
     ]
    }
   ],
   "source": [
    "prompt = \"The future of artificial intelligence in education\"\n",
    "print(generate_gpt_text(prompt))\n"
   ]
  },
  {
   "cell_type": "code",
   "execution_count": null,
   "id": "d6bffde2-9e84-4994-9e96-62e12aedc85d",
   "metadata": {},
   "outputs": [],
   "source": []
  }
 ],
 "metadata": {
  "kernelspec": {
   "display_name": "Python 3 (ipykernel)",
   "language": "python",
   "name": "python3"
  },
  "language_info": {
   "codemirror_mode": {
    "name": "ipython",
    "version": 3
   },
   "file_extension": ".py",
   "mimetype": "text/x-python",
   "name": "python",
   "nbconvert_exporter": "python",
   "pygments_lexer": "ipython3",
   "version": "3.12.3"
  }
 },
 "nbformat": 4,
 "nbformat_minor": 5
}
